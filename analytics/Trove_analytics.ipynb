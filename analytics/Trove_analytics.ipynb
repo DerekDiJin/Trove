{
 "cells": [
  {
   "cell_type": "code",
   "execution_count": 2,
   "metadata": {},
   "outputs": [],
   "source": [
    "import os\n",
    "import sys\n",
    "import datetime\n",
    "import collections\n",
    "import networkx as nx\n",
    "import csv\n",
    "import json\n",
    "import scipy.sparse as sps\n",
    "import numpy as np\n",
    "from scipy import stats\n",
    "from scipy.stats import norm,rayleigh\n",
    "import matplotlib.pyplot as plt\n"
   ]
  },
  {
   "cell_type": "code",
   "execution_count": 3,
   "metadata": {},
   "outputs": [],
   "source": [
    "def plot_seq(axarr, marker, deg, cnt, type, title):\n",
    "    n = axarr[marker].hist(deg, normed=True, bins=cnt, alpha=0.33, label=title)\t\n",
    "    # axarr[marker].set_title(type + \" Degree distribution for \" + str(title))\n",
    "    counts = n[0]\n",
    "    bv = n[1]\n",
    "    # print(n[0])\n",
    "    # print(bins)\n",
    "    x = np.linspace(min(bv), max(bv),100)\n",
    "    print(deg)\n",
    "    print(bv, counts)\n",
    "    param = stats.lognorm.fit(deg,floc=0)\n",
    "    pdf_fitted = stats.lognorm.pdf(x,param[0], loc=param[1], scale=param[2])\n",
    "    axarr[marker].plot(x, pdf_fitted, label=title)\n",
    "    axarr[marker].set_ylabel(\"Frequency\")\n",
    "    axarr[marker].set_xlabel(type + \" Degree\")\n",
    "\n",
    "    return"
   ]
  },
  {
   "cell_type": "code",
   "execution_count": 5,
   "metadata": {},
   "outputs": [],
   "source": [
    "input_graph_file = '../depth/Trove_ALL_edgelist_anonymized.tsv'"
   ]
  },
  {
   "cell_type": "code",
   "execution_count": 6,
   "metadata": {},
   "outputs": [],
   "source": [
    "delimiter = '\\t'\n",
    "\n",
    "raw = np.genfromtxt(input_graph_file, dtype=int)\n",
    "rows = raw[:,0]\n",
    "cols = raw[:,1]\n",
    "weis = raw[:,2]\n",
    "\n",
    "check_eq = True\n",
    "max_id = int(max(max(rows), max(cols)))\n",
    "num_nodes = max_id + 1\n",
    "\n",
    "if max(rows) != max(cols):\n",
    "    rows = np.append(rows,max(max(rows), max(cols)))\n",
    "    cols = np.append(cols,max(max(rows), max(cols)))\n",
    "    weis = np.append(weis, 0)\n",
    "    check_eq = False\n",
    "\n",
    "adj_matrix = sps.lil_matrix( sps.csc_matrix((weis, (rows, cols))))\n",
    "\n",
    "keys = np.arange(num_nodes)\n",
    "values_out = np.asarray(adj_matrix.sum(1).T)[0]\n",
    "values_in = np.asarray(adj_matrix.sum(0))[0]\n",
    "\n",
    "dict_outdeg = dict( zip(keys, values_out) )\n",
    "dict_indeg = dict( zip(keys, values_in) )\n"
   ]
  },
  {
   "cell_type": "code",
   "execution_count": 8,
   "metadata": {},
   "outputs": [
    {
     "name": "stdout",
     "output_type": "stream",
     "text": [
      "Number of nodes: 5686142\n",
      "Number of edges: 25736310\n",
      "Max in_degree 1346972\n",
      "Max out_degree 1346627\n",
      "Medain in_degree 1.0\n",
      "Medain out_degree 0.0\n"
     ]
    },
    {
     "data": {
      "text/plain": [
       "0"
      ]
     },
     "execution_count": 8,
     "metadata": {},
     "output_type": "execute_result"
    }
   ],
   "source": [
    "print('Number of nodes: ' + str(num_nodes))\n",
    "print('Number of edges: ' + str(raw.shape[0]))# sum(weis)))\n",
    "\n",
    "print('Max in_degree ' + str(max(values_in)))\n",
    "print('Max out_degree ' + str(max(values_out)))\n",
    "\n",
    "print('Medain in_degree ' + str(np.median(values_in)))\n",
    "print('Medain out_degree ' + str(np.median(values_out)))\n",
    "\n"
   ]
  },
  {
   "cell_type": "code",
   "execution_count": 56,
   "metadata": {},
   "outputs": [],
   "source": [
    "values_out = np.asarray(adj_matrix.sum(1).T)[0]"
   ]
  },
  {
   "cell_type": "code",
   "execution_count": 58,
   "metadata": {},
   "outputs": [
    {
     "data": {
      "text/plain": [
       "array([1346972])"
      ]
     },
     "execution_count": 58,
     "metadata": {},
     "output_type": "execute_result"
    }
   ],
   "source": [
    "values_in[np.where(values_out == np.max(values_out))]"
   ]
  },
  {
   "cell_type": "code",
   "execution_count": 46,
   "metadata": {},
   "outputs": [],
   "source": [
    "values_out.sort()"
   ]
  },
  {
   "cell_type": "code",
   "execution_count": 61,
   "metadata": {},
   "outputs": [
    {
     "data": {
      "text/plain": [
       "559"
      ]
     },
     "execution_count": 61,
     "metadata": {},
     "output_type": "execute_result"
    }
   ],
   "source": [
    "np.size(np.where(values_out>15000))"
   ]
  },
  {
   "cell_type": "code",
   "execution_count": null,
   "metadata": {},
   "outputs": [],
   "source": []
  }
 ],
 "metadata": {
  "kernelspec": {
   "display_name": "Python 2",
   "language": "python",
   "name": "python2"
  },
  "language_info": {
   "codemirror_mode": {
    "name": "ipython",
    "version": 2
   },
   "file_extension": ".py",
   "mimetype": "text/x-python",
   "name": "python",
   "nbconvert_exporter": "python",
   "pygments_lexer": "ipython2",
   "version": "2.7.10"
  }
 },
 "nbformat": 4,
 "nbformat_minor": 2
}
